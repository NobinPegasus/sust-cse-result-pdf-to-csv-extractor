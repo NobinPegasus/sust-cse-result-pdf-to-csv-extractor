{
  "nbformat": 4,
  "nbformat_minor": 0,
  "metadata": {
    "colab": {
      "name": "result_extraction.ipynb",
      "provenance": [],
      "collapsed_sections": [],
      "include_colab_link": true
    },
    "kernelspec": {
      "name": "python3",
      "display_name": "Python 3"
    },
    "language_info": {
      "name": "python"
    }
  },
  "cells": [
    {
      "cell_type": "markdown",
      "metadata": {
        "id": "view-in-github",
        "colab_type": "text"
      },
      "source": [
        "<a href=\"https://colab.research.google.com/github/NobinPegasus/sust-cse-result-pdf-to-csv-extractor/blob/main/result_extraction.ipynb\" target=\"_parent\"><img src=\"https://colab.research.google.com/assets/colab-badge.svg\" alt=\"Open In Colab\"/></a>"
      ]
    },
    {
      "cell_type": "code",
      "execution_count": null,
      "metadata": {
        "colab": {
          "base_uri": "https://localhost:8080/"
        },
        "id": "ES-4Q6RCwVNh",
        "outputId": "6c9c21e2-e12c-4b8c-a273-e0c2feea75b3"
      },
      "outputs": [
        {
          "output_type": "stream",
          "name": "stdout",
          "text": [
            "Requirement already satisfied: pdfplumber in /usr/local/lib/python3.7/dist-packages (0.6.0)\n",
            "Requirement already satisfied: Wand>=0.6.7 in /usr/local/lib/python3.7/dist-packages (from pdfplumber) (0.6.7)\n",
            "Requirement already satisfied: Pillow>=8.4 in /usr/local/lib/python3.7/dist-packages (from pdfplumber) (8.4.0)\n",
            "Requirement already satisfied: pdfminer.six==20211012 in /usr/local/lib/python3.7/dist-packages (from pdfplumber) (20211012)\n",
            "Requirement already satisfied: chardet in /usr/local/lib/python3.7/dist-packages (from pdfminer.six==20211012->pdfplumber) (3.0.4)\n",
            "Requirement already satisfied: cryptography in /usr/local/lib/python3.7/dist-packages (from pdfminer.six==20211012->pdfplumber) (36.0.1)\n",
            "Requirement already satisfied: cffi>=1.12 in /usr/local/lib/python3.7/dist-packages (from cryptography->pdfminer.six==20211012->pdfplumber) (1.15.0)\n",
            "Requirement already satisfied: pycparser in /usr/local/lib/python3.7/dist-packages (from cffi>=1.12->cryptography->pdfminer.six==20211012->pdfplumber) (2.21)\n"
          ]
        }
      ],
      "source": [
        "!pip install pdfplumber\n",
        "import pdfplumber\n",
        "import pandas as pd\n",
        "import re\n",
        "import numpy as np"
      ]
    },
    {
      "cell_type": "code",
      "source": [
        "!python --version"
      ],
      "metadata": {
        "colab": {
          "base_uri": "https://localhost:8080/"
        },
        "id": "dzehaZHjEkrA",
        "outputId": "558c2c31-214b-477a-b431-ab26b3d71288"
      },
      "execution_count": null,
      "outputs": [
        {
          "output_type": "stream",
          "name": "stdout",
          "text": [
            "Python 3.7.12\n"
          ]
        }
      ]
    },
    {
      "cell_type": "code",
      "source": [
        "! gdown --id 1bQFbunkSgdBLJxfzJfTPDGkiyZ8oWuZU\n",
        "! unzip Results.zip"
      ],
      "metadata": {
        "colab": {
          "base_uri": "https://localhost:8080/"
        },
        "id": "mb-ZtFKb_9gq",
        "outputId": "45661e8f-2baa-445c-8135-7de7ef6fb3ff"
      },
      "execution_count": null,
      "outputs": [
        {
          "output_type": "stream",
          "name": "stdout",
          "text": [
            "Downloading...\n",
            "From: https://drive.google.com/uc?id=1bQFbunkSgdBLJxfzJfTPDGkiyZ8oWuZU\n",
            "To: /content/Results.zip\n",
            "\r  0% 0.00/505k [00:00<?, ?B/s]\r100% 505k/505k [00:00<00:00, 45.0MB/s]\n",
            "Archive:  Results.zip\n",
            "replace second year first sem.pdf? [y]es, [n]o, [A]ll, [N]one, [r]ename: A\n",
            "  inflating: second year first sem.pdf  \n",
            "  inflating: second year second semester.pdf  \n",
            "  inflating: 1st Year 1stSemester.pdf  \n",
            "  inflating: 1st Year 2nd Semester Tabulation.pdf  \n"
          ]
        }
      ]
    },
    {
      "cell_type": "code",
      "source": [
        "\n",
        "\n",
        "def dataframe_generator(flat_list, counter):\n",
        "\n",
        "    df = pd.DataFrame(flat_list,columns=flat_list[0])\n",
        "    df.columns = df.columns.str.replace(\"\\n\",\" \")\n",
        "    for column in [\"Reg No.\", \"Session\"]:  \n",
        "      df[column] = df[column].str.replace(\" \", \"\")\n",
        "\n",
        "\n",
        "    df = df.iloc[1: , :]\n",
        "    if df['Reg No.'].iloc[0] == None:\n",
        "      df = df[1:]\n",
        "\n",
        "    names = df.columns.to_list()\n",
        "\n",
        "    res = [str(i or '') for i in names]\n",
        "    li = []\n",
        "\n",
        "    for i in range(len(res)):\n",
        "\n",
        "      a = re.findall(\"\\d+\\.\\d+\", res[i])\n",
        "      li.append(a)\n",
        "\n",
        "    sr = pd.Series(li)\n",
        "\n",
        "    return df\n"
      ],
      "metadata": {
        "id": "SZWeEIk9Awpp"
      },
      "execution_count": null,
      "outputs": []
    },
    {
      "cell_type": "code",
      "source": [
        "counter = 0\n",
        "\n",
        "def flat_list_generator( range1, range2, filename):\n",
        "\n",
        "    pdf = pdfplumber.open(filename)\n",
        "    total = pdf.pages\n",
        "    totalpages = len(total)\n",
        "    global counter\n",
        "    total_list = []\n",
        "    for i in range(0 ,range1):\n",
        "      t1 = total[i].extract_table()\n",
        "\n",
        "      total_list.append(t1)\n",
        "\n",
        "\n",
        "    globals()['flat_list_{}'.format(counter)] = [item for sublist in total_list for item in sublist]\n",
        "\n",
        "    df = dataframe_generator(eval(f'flat_list_{counter}'), counter)\n",
        "    df.drop_duplicates(subset=None, keep=False, inplace=True) \n",
        "\n",
        "    if(df['Reg No.'].duplicated().any()):\n",
        "      df = df.groupby(['Reg No.'])\n",
        "      df = df.first()\n",
        "\n",
        "    counter += 1\n",
        "\n",
        "    \n",
        "    total_list = []\n",
        "    if range2 is not None:\n",
        "      for i in range(range1 ,range2):\n",
        "\n",
        "        \n",
        "        t1 = total[i].extract_table()\n",
        "\n",
        "        total_list.append(t1)\n",
        "\n",
        "\n",
        "      globals()['flat_list_{}'.format(counter)] = [item for sublist in total_list for item in sublist]\n",
        "\n",
        "      df2 = dataframe_generator(eval(f'flat_list_{counter}'), counter)\n",
        "      df2.drop_duplicates(subset=None, keep=False, inplace=True)\n",
        "\n",
        "      counter += 1\n",
        "    \n",
        "\n",
        "    if(range2 is not None):\n",
        "      data = pd.merge(df, df2, on=['Reg No.', 'Session', 'Course No. = Name Credit = Semester ='], sort= True)\n",
        "      data.drop_duplicates(subset=None, keep=False, inplace=True)\n",
        "      return data\n",
        "    \n",
        "    else:\n",
        "      df.drop_duplicates(subset=None, keep=False, inplace=True)\n",
        "      return df\n",
        "\n",
        "\n",
        "    \n",
        "\n",
        "\n",
        "\n",
        "\n",
        "\n"
      ],
      "metadata": {
        "id": "L8hZ45EZyZWZ"
      },
      "execution_count": null,
      "outputs": []
    },
    {
      "cell_type": "code",
      "source": [
        "a = flat_list_generator(7, None, \"1st Year 1stSemester.pdf\")\n",
        "b = flat_list_generator(8,16, '1st Year 2nd Semester Tabulation.pdf')\n",
        "c = flat_list_generator(8,16, \"second year first sem.pdf\")\n",
        "d = flat_list_generator(16,24, \"second year second semester.pdf\")\n",
        "\n",
        "\n",
        "\n",
        "hello = d\n"
      ],
      "metadata": {
        "id": "pS0gctK0P2Ic"
      },
      "execution_count": null,
      "outputs": []
    },
    {
      "cell_type": "code",
      "source": [
        "\n",
        "\n",
        "\n",
        "def custom_merge(first, second):\n",
        "\n",
        "  first_frame = list(first.columns)\n",
        "  second_frame = list(second.columns)\n",
        "\n",
        "  identical_columnNames = []\n",
        "\n",
        "\n",
        "  for i in first_frame:\n",
        "    for j in second_frame:\n",
        "      if(j==i):\n",
        "        identical_columnNames.append(i)\n",
        "  cols = [col for col in identical_columnNames if col is not None]\n",
        "  if not 'Reg No.' in cols:\n",
        "    cols = ['Reg No.'] + cols\n",
        "\n",
        "  data = pd.merge(first, second, on=cols, how='outer', sort= True)\n",
        "\n",
        "  return data"
      ],
      "metadata": {
        "id": "gkxW_p2Zk7UW"
      },
      "execution_count": null,
      "outputs": []
    },
    {
      "cell_type": "code",
      "source": [
        "data = custom_merge(a,b)\n",
        "data2 = custom_merge(data,c)\n",
        "data3 = custom_merge(data2, d)\n",
        "\n",
        "\n",
        "data3 = data3.replace('',np.nan)\n",
        "data3 = data3.replace('0.00 F', np.nan)\n",
        "\n",
        "data4=data3.groupby('Reg No.', dropna=True)\n",
        "data4= data4.first()\n",
        "\n",
        "data4 = data4.rename(columns={'Course No. = Name Credit = Semester =':'Name'})\n",
        "\n",
        "\n",
        "data4.columns.values[15] = '1st sem CGPA'\n",
        "data4.columns.values[16] = '1st sem letter grade'\n",
        "\n",
        "data4.columns.values[29] = '2nd sem CGPA'\n",
        "data4.columns.values[30] = '2nd sem letter grade'\n",
        "\n",
        "data4.columns.values[40] = '3rd sem CGPA'\n",
        "data4.columns.values[41] = '3rd sem letter grade'\n",
        "\n",
        "data4.columns.values[49] = '4th sem CGPA'\n",
        "data4.columns.values[50] = '4th sem letter grade'\n",
        "\n",
        "\n",
        "data4 = data4.drop(['Total Credit', 'Total GPA','Letter Grade', 'Cumulative','Remarks','GC' ], axis = 1)\n",
        "\n",
        "# data4['CSE250 1.00 4th Semester']\n",
        "  # print('Kisui pai nai')\n",
        "# data4.get_value[40,'CSE250 1.00 4th Semester']\n",
        "\n",
        "\n",
        "# di.columns\n",
        "\n",
        "# di = data4[(data4['CSE150 1.00 2nd Semester'] == None) | (data4['CSE150 1.00 2nd Semester'] <'3') | (data4['CSE250 1.00 4th Semester'] == None) | (data4['CSE250 1.00 4th Semester'] < '3') | (data4['CSE237 3.00 3rd Semester'] == None) | (data4['CSE237 3.00 3rd Semester'] < '3') | (data4['CSE238 2.00 3rd Semester'] < '3') | (data4['CSE238 2.00 3rd Semester'] == None)]\n",
        "\n",
        "# di\n",
        "# di = data4[(data4['Name']=='MD. EMTIAZ KABIR IFTU')].values[0]\n",
        "\n",
        "\n",
        "# ji = di.iloc[]\n",
        "# di\n",
        "# ji = di[['CSE250 1.00 4th Semester']]\n",
        "\n",
        "\n",
        "# print(type(ji))\n",
        "# print(di.columns)\n",
        "\n",
        "# di\n",
        "hell = data4[['Name','CSE133 3.00 1st Semester','CSE134 2.00 1st Semester', 'CSE143 3.00 1st Semester','CSE144 1.00 1st Semester','CSE137 3.00 2nd Semester', 'CSE138 2.00 2nd Semester','CSE233 3.00 3rd Semester', 'CSE234 2.00 3rd Semester','CSE237 3.00 3rd Semester', 'CSE238 2.00 3rd Semester','CSE239 2.00 4th Semester', 'CSE240 1.50 4th Semester','CSE150 1.00 2nd Semester','CSE250 1.00 4th Semester']] \n",
        "# di = di[['Name', 'CSE150 1.00 2nd Semester','CSE250 1.00 4th Semester', 'CSE237 3.00 3rd Semester', 'CSE238 2.00 3rd Semester']]\n",
        "haha = list(hell.columns.values)\n",
        "print(haha[14])\n",
        "\n",
        "\n",
        "# hell.columns\n",
        "op = hell[((hell[haha[1]]<'3') & (hell[haha[2]]<'3')) | ((hell[haha[3]]<'3') & (hell[haha[4]]<'3')) | ((hell[haha[5]]<'3') & (hell[haha[6]]<'3')) | ((hell[haha[7]]<'3') & (hell[haha[8]]<'3')) | ((hell[haha[9]]<'3') & (hell[haha[10]]<'3')) | ((hell[haha[11]]<'3') & (hell[haha[12]]<'3')) | ((hell[haha[13]]<'3') & (hell[haha[14]]<'3'))]\n",
        "op\n",
        "# print(len(op))\n",
        "\n",
        "# di = hell[(data4['CSE150 1.00 2nd Semester'] == None) | (data4['CSE150 1.00 2nd Semester'] <'3') | (data4['CSE250 1.00 4th Semester'] == None) | (data4['CSE250 1.00 4th Semester'] < '3') | (data4['CSE237 3.00 3rd Semester'] == None) | (data4['CSE237 3.00 3rd Semester'] < '3') | (data4['CSE238 2.00 3rd Semester'] < '3') | (data4['CSE238 2.00 3rd Semester'] == None)]\n",
        "\n",
        "# hell.isnull().sum(1)>1\n",
        "\n",
        "# di\n",
        "# data4\n",
        "# print(len(di))\n",
        "\n"
      ],
      "metadata": {
        "id": "HndfNVzX4UaZ"
      },
      "execution_count": null,
      "outputs": []
    },
    {
      "cell_type": "code",
      "source": [
        "# def nans(df): return df[df.isnull().any(axis=1)]\n",
        "\n",
        "# df.loc[df.isnull().sum(1)>1].index"
      ],
      "metadata": {
        "id": "3GcVy3HIIZVn"
      },
      "execution_count": 110,
      "outputs": []
    },
    {
      "cell_type": "code",
      "source": [
        "# nans(data4)\n",
        "\n",
        "# data4\n",
        "# data4.isnull()\n",
        "# data4.isnull().any(axis=1)\n",
        "# data4[data4.isna().any(axis=1)]\n",
        "\n",
        "# data4.loc[data4.isnull().sum(1)>1]\n",
        "# data4\n",
        "\n",
        "# data4 = hell.drop(['CSE134 3.00 1st Semester'], axis = 1)\n",
        "lp=hell.loc[hell.isnull().sum(1)>1]\n",
        "# print(len(lp))\n",
        "# print(len(data4))\n",
        "lp\n",
        "\n"
      ],
      "metadata": {
        "id": "xJUFCmnAIboB"
      },
      "execution_count": null,
      "outputs": []
    },
    {
      "cell_type": "code",
      "source": [
        "data4.to_csv('all_results.csv')"
      ],
      "metadata": {
        "id": "Dn6Ivqkt-Imx"
      },
      "execution_count": 55,
      "outputs": []
    },
    {
      "cell_type": "code",
      "source": [
        "pd.set_option('max_rows', 99999)\n"
      ],
      "metadata": {
        "id": "8yI2CEE6eaiC"
      },
      "execution_count": null,
      "outputs": []
    },
    {
      "cell_type": "code",
      "source": [
        "\n",
        "\n",
        "# data1 = df.loc[df['CSE237 3.00 3rd Semester'] <= '3' & df['CSE238 2.00 3rd Semester'] <= '3']\n",
        "\n",
        "# dji = data1.loc[data1['Course No. = Name Credit = Semester ='] == 'ZESHAN AHMED NABIN']\n",
        "# hul = dji[['CSE150 1.00 2nd Semester']]\n",
        "\n",
        "\n",
        "\n",
        "\n",
        "# di = den[['Course No. = Name Credit = Semester =', 'CSE150 1.00 2nd Semester','CSE250 1.00 4th Semester','CSE237 3.00 3rd Semester', 'CSE238 2.00 3rd Semester']]\n",
        "# di = (di['CSE150 1.00 2nd Semester'] <'3') or (di['CSE250 1.00 4th Semester']) or ((di['CSE237 3.00 3rd Semester'] < '3') & (di['CSE238 2.00 3rd Semester'] < '3'))\n",
        "\n",
        "# di = di[((di['CSE150 1.00 2nd Semester'] != '') & (di['CSE150 1.00 2nd Semester'] <'3')) | ((di['CSE250 1.00 4th Semester'] != '') & (di['CSE250 1.00 4th Semester'] < '3')) | ((di['CSE237 3.00 3rd Semester'] < '3') & (di['CSE238 2.00 3rd Semester'] < '3'))]\n",
        "\n",
        "# di\n",
        "\n",
        "\n",
        "# data2 = df.loc[((df['CSE237 3.00 3rd Semester'] < '3') & (df['CSE238 2.00 3rd Semester'] < '3'))]\n"
      ],
      "metadata": {
        "id": "ZBawkQHtzNTK"
      },
      "execution_count": null,
      "outputs": []
    }
  ]
}